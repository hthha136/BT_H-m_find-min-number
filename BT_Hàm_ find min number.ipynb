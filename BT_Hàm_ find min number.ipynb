{
 "cells": [
  {
   "cell_type": "code",
   "execution_count": 6,
   "id": "8cb6ceba",
   "metadata": {},
   "outputs": [
    {
     "name": "stdout",
     "output_type": "stream",
     "text": [
      "min:  -10\n"
     ]
    }
   ],
   "source": [
    "def min_number(numbers):\n",
    "    result = numbers[0]\n",
    "    for i in numbers:\n",
    "        if result > i:\n",
    "            result = i\n",
    "    return result\n",
    "numbers = [8,5,4,-8,6,-10]\n",
    "print('min: ',min_number(numbers))"
   ]
  }
 ],
 "metadata": {
  "kernelspec": {
   "display_name": "Python 3 (ipykernel)",
   "language": "python",
   "name": "python3"
  },
  "language_info": {
   "codemirror_mode": {
    "name": "ipython",
    "version": 3
   },
   "file_extension": ".py",
   "mimetype": "text/x-python",
   "name": "python",
   "nbconvert_exporter": "python",
   "pygments_lexer": "ipython3",
   "version": "3.10.4"
  }
 },
 "nbformat": 4,
 "nbformat_minor": 5
}
